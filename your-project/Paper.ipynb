{
 "cells": [
  {
   "cell_type": "markdown",
   "metadata": {},
   "source": [
    "# Fantastic wines and how to choose them\n",
    "\n",
    "## Introduction\n",
    "\n",
    "While looking for a subject to our project, we came accross a wine review dataset on Kaggle. Some questions came out of our mind such as:\n",
    "- What makes a good wine ?\n",
    "- Where is the most expensive wine from ?\n",
    "- What is the country that export the most wines ?\n",
    "- What is the consumption pattern of wine by country ?\n",
    "\n",
    "Besides, we all have faced the situation of being in front of the wine shelf of the supermarket trying to choose a bottle of wine for the party or the diner we have been invited to. And each time you struggle to choose a good wine so people who will taste it will congratulate your choice.\n",
    "\n",
    "Hence this analysis tries to answer the above questions but also aims at giving some tips to select a good wine for the next time you will have to choose one.\n",
    "\n",
    "## Data\n",
    "\n",
    "### Sources\n",
    "\n",
    "To run this analysis, a dataset of wine reviews from 2017 was available on Kaggle (https://www.kaggle.com/zynicide/wine-reviews). Also the following web page (http://www.worldstopexports.com/wine-exports-country/) was scrapped to get wine export data.\n",
    "\n",
    "We also got data from the API of global wine score (https://api.globalwinescore.com/globalwinescores/latest/) but the data gathered was limited to the top hundred wines referenced by country and most of the information was already present in the kaggle datasets. Consequently, this source was dropped.\n",
    "\n",
    "### Cleaning\n",
    "\n",
    "The dataset was well fed with 120 000 unique values. After filtering and removing the NaNs, 110 000 values remained wich represents around 90% of the original dataset.\n",
    "\n",
    "Sometimes the description of the column was very poor. If no indication at all, some important information are missing such as price currency.\n",
    "\n",
    "\n",
    "\n",
    "Vintage had to be extracted from the wine \"title\".\n",
    "\n",
    "### limitations\n",
    "\n",
    "## Questions\n",
    "\n",
    "### What makes a good wine ?\n",
    "\n",
    "### Where is the most expensive wine from ?\n",
    "\n",
    "### What is the country that export the most wines ?\n",
    "\n",
    "### What is the consumption pattern of wine by country ?\n",
    "\n",
    "## Insights\n",
    "\n",
    "## Further questions and improvements"
   ]
  },
  {
   "cell_type": "code",
   "execution_count": null,
   "metadata": {},
   "outputs": [],
   "source": []
  }
 ],
 "metadata": {
  "kernelspec": {
   "display_name": "Python 3",
   "language": "python",
   "name": "python3"
  },
  "language_info": {
   "codemirror_mode": {
    "name": "ipython",
    "version": 3
   },
   "file_extension": ".py",
   "mimetype": "text/x-python",
   "name": "python",
   "nbconvert_exporter": "python",
   "pygments_lexer": "ipython3",
   "version": "3.8.3"
  }
 },
 "nbformat": 4,
 "nbformat_minor": 4
}
